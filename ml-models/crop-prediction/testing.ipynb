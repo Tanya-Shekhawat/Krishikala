{
 "cells": [
  {
   "cell_type": "code",
   "execution_count": 6,
   "id": "e82ad03e-8511-4997-94a2-1d9e416e87bf",
   "metadata": {},
   "outputs": [
    {
     "name": "stdin",
     "output_type": "stream",
     "text": [
      "Enter number of steps in side one:  200\n",
      "Enter number of steps in side two:  100\n"
     ]
    },
    {
     "name": "stdout",
     "output_type": "stream",
     "text": [
      "Your total land area is 11552.0 acers\n"
     ]
    }
   ],
   "source": [
    "foot_size = 0.76\n",
    "\n",
    "side_1 = float(input(\"Enter number of steps in side one: \"))\n",
    "side_2 = float(input(\"Enter number of steps in side two: \"))\n",
    "\n",
    "side_1_len = side_1 * foot_size\n",
    "side_2_len = side_2 * foot_size\n",
    "\n",
    "area = side_1_len * side_2_len\n",
    "area_in_acers = area / 4046.86\n",
    "print(f\"Your total land area is {area} acers\")"
   ]
  },
  {
   "cell_type": "code",
   "execution_count": 4,
   "id": "7ee86b3a-a6d7-4f92-8224-5b9ac296f420",
   "metadata": {},
   "outputs": [
    {
     "name": "stdout",
     "output_type": "stream",
     "text": [
      "5000 square meters is equal to 1.2355258150763802 acres\n"
     ]
    }
   ],
   "source": [
    "# Function to convert square meters to acres\n",
    "def square_meters_to_acres(square_meters):\n",
    "    # 1 acre is equal to 4046.86 square meters\n",
    "    acres = square_meters / 4046.86\n",
    "    return acres\n",
    "\n",
    "# Example usage\n",
    "square_meters = 5000  # Replace with your desired area in square meters\n",
    "acres = square_meters_to_acres(square_meters)\n",
    "print(f\"{square_meters} square meters is equal to {acres} acres\")\n"
   ]
  },
  {
   "cell_type": "code",
   "execution_count": 9,
   "id": "924966fd-016b-4e77-ba02-b74487476a66",
   "metadata": {},
   "outputs": [],
   "source": [
    "def land_area() :\n",
    "    foot_size = 0.76\n",
    "    side_1 = float(input(\"Enter number of steps in side one: \"))\n",
    "    side_2 = float(input(\"Enter number of steps in side two: \"))\n",
    "\n",
    "    side_1_len = side_1 * foot_size\n",
    "    side_2_len = side_2 * foot_size\n",
    "\n",
    "    area = side_1_len * side_2_len\n",
    "    area_in_acers = area // 4046.86\n",
    "    return (f\"Your total land area is {area} acers\")\n",
    "    "
   ]
  },
  {
   "cell_type": "code",
   "execution_count": 10,
   "id": "1a70f651-c143-4a62-9a07-5f023af68ac4",
   "metadata": {},
   "outputs": [
    {
     "name": "stdin",
     "output_type": "stream",
     "text": [
      "Enter number of steps in side one:  300\n",
      "Enter number of steps in side two:  100\n"
     ]
    },
    {
     "data": {
      "text/plain": [
       "'Your total land area is 17328.0 acers'"
      ]
     },
     "execution_count": 10,
     "metadata": {},
     "output_type": "execute_result"
    }
   ],
   "source": [
    "land_area()"
   ]
  },
  {
   "cell_type": "code",
   "execution_count": null,
   "id": "708b17e1-ce06-40bb-98ab-2f48a4fb051c",
   "metadata": {},
   "outputs": [],
   "source": []
  }
 ],
 "metadata": {
  "kernelspec": {
   "display_name": "Python 3 (ipykernel)",
   "language": "python",
   "name": "python3"
  },
  "language_info": {
   "codemirror_mode": {
    "name": "ipython",
    "version": 3
   },
   "file_extension": ".py",
   "mimetype": "text/x-python",
   "name": "python",
   "nbconvert_exporter": "python",
   "pygments_lexer": "ipython3",
   "version": "3.11.5"
  }
 },
 "nbformat": 4,
 "nbformat_minor": 5
}
